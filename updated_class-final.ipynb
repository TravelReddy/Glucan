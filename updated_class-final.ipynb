{
 "cells": [
  {
   "cell_type": "code",
   "execution_count": 129,
   "metadata": {},
   "outputs": [],
   "source": [
    "from sklearn.linear_model import LassoCV,Lasso,RidgeCV,Ridge,ElasticNetCV,ElasticNet\n",
    "import pandas as pd\n",
    "import numpy as np\n",
    "from sklearn.model_selection import train_test_split\n",
    "from statsmodels.stats.outliers_influence import variance_inflation_factor\n",
    "from sklearn.preprocessing import StandardScaler,MinMaxScaler\n",
    "import statsmodels.api as sm\n",
    "import statsmodels.formula.api as smf\n",
    "import matplotlib.pyplot as plt\n",
    "import seaborn as sns\n",
    "\n",
    "import warnings\n",
    "warnings.filterwarnings('ignore')"
   ]
  },
  {
   "cell_type": "code",
   "execution_count": 2,
   "metadata": {},
   "outputs": [],
   "source": [
    "def mod_ada_lasso(X_train,y_train,X_test):\n",
    "    \n",
    "    # apply ridge regression to determine the penalty weights\n",
    "    rcv = RidgeCV()\n",
    "    rcv.fit(X_train,y_train)\n",
    "    ridge_coefs = rcv.coef_\n",
    "    \n",
    "    # apply lasso with penalization\n",
    "    enet = ElasticNet(l1_ratio=1/abs(min(ridge_coefs)))\n",
    "    enet.fit(X_train,y_train)\n",
    "    impute_values = enet.predict(X_test)\n",
    "\n",
    "    return impute_values"
   ]
  },
  {
   "cell_type": "code",
   "execution_count": 3,
   "metadata": {},
   "outputs": [],
   "source": [
    "def mod_elastic_net(X_train,y_train,X_test):\n",
    "    enet = ElasticNet(alpha=0.5)\n",
    "    enet.fit(X_train,y_train)\n",
    "    \n",
    "    impute_values = enet.predict(X_test)\n",
    "    \n",
    "    return impute_values"
   ]
  },
  {
   "cell_type": "code",
   "execution_count": 4,
   "metadata": {},
   "outputs": [],
   "source": [
    "def mod_scad(X_train,y_train,X_test):\n",
    "    enet = ElasticNet(l1_ratio=3.7) # SCAD penalty default value\n",
    "    enet.fit(X_train,y_train)\n",
    "    impute_values = enet.predict(X_test)\n",
    "    \n",
    "    return impute_values"
   ]
  },
  {
   "cell_type": "code",
   "execution_count": 125,
   "metadata": {},
   "outputs": [],
   "source": [
    "X = pd.read_excel('./clean_pls_predictors.xlsx')"
   ]
  },
  {
   "cell_type": "markdown",
   "metadata": {},
   "source": [
    "### Feature Engineering using Lasso"
   ]
  },
  {
   "cell_type": "code",
   "execution_count": 153,
   "metadata": {},
   "outputs": [],
   "source": [
    "def feature_engineering_lasso(X,target_column,display=True):\n",
    "    input_X = X.iloc[:,8:]\n",
    "    output_Y = X[[target_column]]\n",
    "    features = []\n",
    "    f_dict = {}\n",
    "    \n",
    "    model = Lasso(alpha=1)\n",
    "    model.fit(input_X,output_Y)\n",
    "    \n",
    "    for i,j in zip(input_X.keys(),model.coef_):\n",
    "        if j != 0:\n",
    "            features.append(i)\n",
    "            f_dict.update({i:j})\n",
    "\n",
    "    f_df = pd.DataFrame({'features':list(f_dict.keys()),'coef_':list(f_dict.values())})\n",
    "    f_df.sort_values(by='coef_',ascending=False,ignore_index=True,inplace=True)\n",
    "\n",
    "    if display:\n",
    "        plt.figure(figsize=(20,5))\n",
    "        sns.barplot(f_df.features,f_df.coef_)\n",
    "        plt.xticks(rotation=90)\n",
    "        plt.show()\n",
    "    \n",
    "    return list(f_df.features)"
   ]
  },
  {
   "cell_type": "code",
   "execution_count": 154,
   "metadata": {},
   "outputs": [],
   "source": [
    "best_features_glucan = feature_engineering_lasso(X,target_column='glucan',display=False)"
   ]
  },
  {
   "cell_type": "code",
   "execution_count": 155,
   "metadata": {},
   "outputs": [],
   "source": [
    "y_features = list(X.iloc[:,0:8].keys())"
   ]
  },
  {
   "cell_type": "code",
   "execution_count": 159,
   "metadata": {},
   "outputs": [],
   "source": [
    "X = X[y_features+best_features_glucan]"
   ]
  },
  {
   "cell_type": "markdown",
   "metadata": {},
   "source": [
    "# Mouse Class"
   ]
  },
  {
   "cell_type": "code",
   "execution_count": 160,
   "metadata": {},
   "outputs": [],
   "source": [
    "class mouse:\n",
    "    \n",
    "    def __init__(self,X,prediciton_algorithm,max_iterations,stopping_criterion):\n",
    "        self.X = X\n",
    "        self.prediciton_algorithm = prediciton_algorithm\n",
    "        self.X_train = None\n",
    "        self.X_test = None\n",
    "        self.y_train = None\n",
    "        self.y_test = None\n",
    "        self.X_mean = None\n",
    "        self.X_sd = None\n",
    "        self.y_mean = None\n",
    "        self.y_sd = None\n",
    "        self.current_column_name = None\n",
    "        self.current_column_index = None\n",
    "        self.max_iterations=max_iterations\n",
    "        self.stopping_criterion = stopping_criterion\n",
    "        self.iterations_performed = None,\n",
    "        \n",
    "        temp_X = np.array(self.X)\n",
    "#         print(self.X.shape)\n",
    "        self.n = self.X.shape[0]\n",
    "        self.p = self.X.shape[1]\n",
    "        \n",
    "        temp_missing_data = {}\n",
    "    \n",
    "        for col in range(temp_X.shape[1]):\n",
    "            NAs_found = np.where(np.isnan(temp_X[:,col])==True)[0].tolist()\n",
    "            if len(NAs_found) != 0:\n",
    "                current_mean = np.delete(temp_X[:,col],NAs_found).mean()\n",
    "                temp_list = {i:current_mean for i in NAs_found}\n",
    "                temp_X[NAs_found,col] = current_mean\n",
    "                temp_missing_data.update({str(col):temp_list})\n",
    "                \n",
    "        self.X = temp_X\n",
    "        self.q = len(temp_missing_data)\n",
    "        self.missing_data = temp_missing_data\n",
    "#         print(self.missing_data)\n",
    "        self.X_old = temp_X*100\n",
    "        \n",
    "        \n",
    "# Set_column_response function used for checking datatype and assing the value based on the datatype\n",
    "        \n",
    "    def set_column_response(self,input_index):\n",
    "        if type(input_index) == int:\n",
    "            self.current_column_name = str(input_index) \n",
    "            self.current_column_index = input_index\n",
    "#             print(self.current_column_name)\n",
    "            \n",
    "        else:\n",
    "            self.current_column_name = input_index\n",
    "            self.current_column_index = int(input_index)\n",
    "#             print(self.current_column_name)\n",
    "        \n",
    "            \n",
    "    \n",
    "# Dividing the data into training,test and finding mean and standard deviation\n",
    "    def set_data_split(self):\n",
    "        \n",
    "#         print(self.missing_data[self.current_column_name].keys())\n",
    "        \n",
    "        row_missing_index = self.missing_data[self.current_column_name].keys()\n",
    "                \n",
    "        ### X train ###\n",
    "        temp_X_train = np.delete(self.X,self.current_column_index,axis=1)\n",
    "        temp_X_train = np.delete(temp_X_train,list(row_missing_index),axis=0)\n",
    "\n",
    "        ### X test ###\n",
    "        temp_X_test = np.delete(self.X,self.current_column_index,axis=1)\n",
    "        temp_X_test = temp_X_test[list(row_missing_index),:]\n",
    "        \n",
    "        ### Y_train ###\n",
    "        temp_Y_train = np.delete(self.X,list(row_missing_index),axis=0)\n",
    "        temp_Y_train = temp_Y_train[:,self.current_column_index]\n",
    "\n",
    "        ### Y_test ###\n",
    "        temp_Y_test = self.X[list(row_missing_index),self.current_column_index]\n",
    "        \n",
    "        # center the data to the training set\n",
    "        # this will change with each iteration of imputation\n",
    "        self.X_mean = temp_X_train.mean()\n",
    "        self.X_sd = temp_X_train.std()\n",
    "\n",
    "        self.y_mean = temp_Y_train.mean()\n",
    "        self.y_sd = temp_Y_train.std()\n",
    "\n",
    "        self.y_train = (temp_Y_train - self.y_mean) / self.y_sd # -3 to + 3\n",
    "        self.y_test = (temp_Y_test - self.y_mean) / self.y_sd # -3 to + 3\n",
    "\n",
    "        temp_X_train = temp_X_train - self.X_mean\n",
    "        tem_X_test = temp_X_test - self.X_mean\n",
    "        \n",
    "        self.X_train = temp_X_train/self.X_sd # -3 to + 3\n",
    "        self.X_test = temp_X_test/self.X_sd # -3 to + 3\n",
    "        \n",
    "    \n",
    "    def update_X(self):\n",
    "        \n",
    "        row_missing_index =  self.missing_data[self.current_column_name].keys()\n",
    "        \n",
    "        for i,j in zip(row_missing_index,self.y_test):\n",
    "#             print(self.y_test)\n",
    "#             print(self.missing_data[self.current_column_name])\n",
    "#             self.missing_data[self.current_column_name][i] = self.y_test*self.y_sd*self.y_mean\n",
    "            self.missing_data[self.current_column_name][i] = (j*self.y_sd) + self.y_mean\n",
    "#         print(self.missing_data)\n",
    "        \n",
    "#         print(self.missing_data[self.current_column_name])\n",
    "        self.X[list(self.missing_data[self.current_column_name].keys()),self.current_column_index] = self.y_test\n",
    "      \n",
    "    \n",
    "# Update_X function updates the X matrix missing data wth y_pred.\n",
    "    \n",
    "    def run(self):\n",
    "        \n",
    "        for iters in range(self.max_iterations):\n",
    "            self.iterations_performed = iters\n",
    "            # 2. Regressing the missing values\n",
    "            # random starting point for the missing data column\n",
    "            \n",
    "            for k in self.missing_data.keys():\n",
    "                \n",
    "                self.set_column_response(k)\n",
    "                self.set_data_split()\n",
    "                self.y_test = self.prediciton_algorithm(self.X_train,self.y_train,self.X_test) # 4th - Shape of X_test - (7,115)\n",
    "#                 print(self.y_test)\n",
    "                self.update_X()\n",
    "                \n",
    "            if np.linalg.norm(self.X - self.X_old) < self.stopping_criterion:\n",
    "                \n",
    "                break\n",
    "                \n",
    "            else:\n",
    "                self.X_old = self.X\n",
    "            \n",
    "        return self.missing_data"
   ]
  },
  {
   "cell_type": "code",
   "execution_count": 161,
   "metadata": {
    "scrolled": false
   },
   "outputs": [
    {
     "data": {
      "text/plain": [
       "{'4': {195: 83.26533959305165,\n",
       "  199: 83.26533959305165,\n",
       "  200: 83.26533959305165,\n",
       "  206: 83.26533959305165,\n",
       "  212: 83.26533959305165,\n",
       "  213: 83.26533959305165,\n",
       "  214: 83.26533959305165},\n",
       " '5': {195: 2.4154335610380957,\n",
       "  199: 2.4154335610380957,\n",
       "  200: 2.4154335610380957,\n",
       "  206: 2.3768326063610656,\n",
       "  212: 2.366290287978209,\n",
       "  213: 2.366290287978209,\n",
       "  214: 2.366290287978209},\n",
       " '6': {195: 49.08800938967136,\n",
       "  199: 49.08800938967136,\n",
       "  200: 49.08800938967136,\n",
       "  206: 49.08800938967136,\n",
       "  212: 49.08800938967136,\n",
       "  213: 49.08800938967136,\n",
       "  214: 49.08800938967136},\n",
       " '7': {195: 0.30996357076826225,\n",
       "  199: 0.30996357076826225,\n",
       "  200: 0.30996357076826225,\n",
       "  206: 0.30996357076826225,\n",
       "  212: 0.30996357076826225,\n",
       "  213: 0.30996357076826225,\n",
       "  214: 0.30996357076826225}}"
      ]
     },
     "execution_count": 161,
     "metadata": {},
     "output_type": "execute_result"
    }
   ],
   "source": [
    "mouse_class = mouse(X,prediciton_algorithm=mod_ada_lasso,\n",
    "                    max_iterations=30,\n",
    "                    stopping_criterion=1e-5)\n",
    "mouse_class.run()"
   ]
  },
  {
   "cell_type": "markdown",
   "metadata": {},
   "source": [
    "# Mice Class"
   ]
  },
  {
   "cell_type": "code",
   "execution_count": 162,
   "metadata": {},
   "outputs": [],
   "source": [
    "class mice:\n",
    "    \n",
    "    def __init__(self,X,prediction_algorithm):\n",
    "        \n",
    "        self.X = X\n",
    "        self.prediction_algorithm = prediction_algorithm\n",
    "        self.num_replicates = 10\n",
    "        self.max_iterations = 30\n",
    "        self.stopping_criterion = 1e-5\n",
    "        self.list_of_replicates = {}\n",
    "        self.imputation_results = {}\n",
    "        self.imputation_metrics = {}\n",
    "        \n",
    "    def run(self):\n",
    "        mouse_class = mouse(X=self.X,prediciton_algorithm=self.prediction_algorithm,\n",
    "                            max_iterations=self.max_iterations,\n",
    "                            stopping_criterion=self.stopping_criterion)\n",
    "        for m in range(self.num_replicates):\n",
    "            self.list_of_replicates.update({m:mouse_class.run()})\n",
    "            \n",
    "#         print(self.list_of_replicates)\n",
    "    \n",
    "    # Double check with this code with Ross\n",
    "    \n",
    "    def collect(self):\n",
    "        \n",
    "        for i in range(self.num_replicates):\n",
    "            for j in self.list_of_replicates[i].keys():\n",
    "#                 print(j)\n",
    "                if len(self.imputation_results) == 0:\n",
    "                    \n",
    "                    temp_index = list(self.list_of_replicates[i][j].keys())\n",
    "                    temp_matrix = np.repeat(0,len(temp_index)*self.num_replicates).reshape(self.num_replicates,len(temp_index))\n",
    "                    temp_matrix = pd.DataFrame(temp_matrix,columns=temp_index)\n",
    "                    self.imputation_results.update({j:temp_matrix})\n",
    "                    \n",
    "                temp_value = self.list_of_replicates[i][j].values()\n",
    "                self.imputation_results.update({j:{i:temp_value}})\n",
    "                \n",
    "#         print(self.imputation_results)\n",
    "                \n",
    "    def set_summary_stats(self):\n",
    "        \n",
    "        if len(self.imputation_results) == 0:\n",
    "            self.collect()\n",
    "            \n",
    "        for j in self.imputation_results:\n",
    "#             print(list(list(self.imputation_results[j].values())[0])[0])\n",
    "            temp_result = {}\n",
    "            num_samples = len(self.imputation_results[j])\n",
    "            temp_result['mean'] = np.mean(list(list(self.imputation_results[j].values())[0])[0])\n",
    "            temp_result['sd'] = np.std(list(list(self.imputation_results[j].values())[0])[0])\n",
    "            \n",
    "            standard_error = 1.96*temp_result['sd']/np.sqrt(num_samples)\n",
    "            temp_result['upper_ci'] = temp_result['mean'] + standard_error\n",
    "            temp_result['lower_ci'] = temp_result['mean'] - standard_error\n",
    "            \n",
    "            self.imputation_metrics.update({j:temp_result})\n",
    "            \n",
    "        print(self.imputation_metrics)\n",
    "                     "
   ]
  },
  {
   "cell_type": "code",
   "execution_count": 163,
   "metadata": {},
   "outputs": [
    {
     "name": "stdout",
     "output_type": "stream",
     "text": [
      "{'4': {'mean': 83.26533959305165, 'sd': 0.0, 'upper_ci': 83.26533959305165, 'lower_ci': 83.26533959305165}, '5': {'mean': 2.4154335610380957, 'sd': 0.0, 'upper_ci': 2.4154335610380957, 'lower_ci': 2.4154335610380957}, '6': {'mean': 49.08800938967136, 'sd': 0.0, 'upper_ci': 49.08800938967136, 'lower_ci': 49.08800938967136}, '7': {'mean': 0.30996357076826225, 'sd': 0.0, 'upper_ci': 0.30996357076826225, 'lower_ci': 0.30996357076826225}}\n"
     ]
    }
   ],
   "source": [
    "mice_class = mice(X,prediction_algorithm=mod_ada_lasso)\n",
    "mice_class.run()\n",
    "mice_class.set_summary_stats()"
   ]
  }
 ],
 "metadata": {
  "kernelspec": {
   "display_name": "Python 3",
   "language": "python",
   "name": "python3"
  },
  "language_info": {
   "codemirror_mode": {
    "name": "ipython",
    "version": 3
   },
   "file_extension": ".py",
   "mimetype": "text/x-python",
   "name": "python",
   "nbconvert_exporter": "python",
   "pygments_lexer": "ipython3",
   "version": "3.8.3"
  }
 },
 "nbformat": 4,
 "nbformat_minor": 4
}
