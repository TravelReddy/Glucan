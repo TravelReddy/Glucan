{
 "cells": [
  {
   "cell_type": "code",
   "execution_count": 11,
   "metadata": {},
   "outputs": [],
   "source": [
    "import pandas as pd\n",
    "import numpy as np\n",
    "import seaborn as sns\n",
    "import matplotlib.pyplot as plt\n",
    "\n",
    "import warnings\n",
    "warnings.filterwarnings('ignore')"
   ]
  },
  {
   "cell_type": "code",
   "execution_count": 2,
   "metadata": {},
   "outputs": [],
   "source": [
    "data = pd.read_excel('./clean_pls_predictors.xlsx')"
   ]
  },
  {
   "cell_type": "code",
   "execution_count": 5,
   "metadata": {},
   "outputs": [],
   "source": [
    "X = data.iloc[:,8:]"
   ]
  },
  {
   "cell_type": "code",
   "execution_count": 6,
   "metadata": {},
   "outputs": [
    {
     "data": {
      "text/html": [
       "<div>\n",
       "<style scoped>\n",
       "    .dataframe tbody tr th:only-of-type {\n",
       "        vertical-align: middle;\n",
       "    }\n",
       "\n",
       "    .dataframe tbody tr th {\n",
       "        vertical-align: top;\n",
       "    }\n",
       "\n",
       "    .dataframe thead th {\n",
       "        text-align: right;\n",
       "    }\n",
       "</style>\n",
       "<table border=\"1\" class=\"dataframe\">\n",
       "  <thead>\n",
       "    <tr style=\"text-align: right;\">\n",
       "      <th></th>\n",
       "      <th>ADSCI-growing season</th>\n",
       "      <th>ADSCI-30 days prior to harvest</th>\n",
       "      <th>ADSCI-30 days prior to growing season end</th>\n",
       "      <th>Precip-growing season cm</th>\n",
       "      <th>Precip-30 days prior to harvest cm</th>\n",
       "      <th>Precip-30 days prior to growing season end cm</th>\n",
       "      <th>Accumlated Thermal Time-growing season C</th>\n",
       "      <th>Accumlated Thermal Time-30 days prior to harvest C</th>\n",
       "      <th>Accumlated Thermal Time-30 days prior to growing season end C</th>\n",
       "      <th>0-10 Soil pH</th>\n",
       "      <th>...</th>\n",
       "      <th>50-100 Site SOM</th>\n",
       "      <th>50-100 Site Soil total organic carbon</th>\n",
       "      <th>50-100 Site Total Soil nitrogen</th>\n",
       "      <th>50-100 Site Extractable P mg kg-1</th>\n",
       "      <th>50-100 Site Extractable K mg kg-1</th>\n",
       "      <th>50-100 Site Extractable Ca mg kg-1</th>\n",
       "      <th>50-100 Site Extractable Mg mg kg-1</th>\n",
       "      <th>50-100 Site Extractable S mg kg-1</th>\n",
       "      <th>50-100 Site BD g cm-3</th>\n",
       "      <th>Nitrogen Trt Categorical</th>\n",
       "    </tr>\n",
       "  </thead>\n",
       "  <tbody>\n",
       "    <tr>\n",
       "      <th>0</th>\n",
       "      <td>0.00</td>\n",
       "      <td>0.0</td>\n",
       "      <td>0.0</td>\n",
       "      <td>77.9272</td>\n",
       "      <td>9.6520</td>\n",
       "      <td>11.0744</td>\n",
       "      <td>3226.944444</td>\n",
       "      <td>-86.666667</td>\n",
       "      <td>483.055556</td>\n",
       "      <td>5.83333</td>\n",
       "      <td>...</td>\n",
       "      <td>1.9</td>\n",
       "      <td>1.11</td>\n",
       "      <td>0.11</td>\n",
       "      <td>47.1</td>\n",
       "      <td>144</td>\n",
       "      <td>1613</td>\n",
       "      <td>154</td>\n",
       "      <td>17.1</td>\n",
       "      <td>1.69</td>\n",
       "      <td>1</td>\n",
       "    </tr>\n",
       "    <tr>\n",
       "      <th>1</th>\n",
       "      <td>0.00</td>\n",
       "      <td>0.0</td>\n",
       "      <td>0.0</td>\n",
       "      <td>77.9272</td>\n",
       "      <td>9.6520</td>\n",
       "      <td>11.0744</td>\n",
       "      <td>3226.944444</td>\n",
       "      <td>-86.666667</td>\n",
       "      <td>483.055556</td>\n",
       "      <td>5.80000</td>\n",
       "      <td>...</td>\n",
       "      <td>1.9</td>\n",
       "      <td>1.08</td>\n",
       "      <td>0.11</td>\n",
       "      <td>39.5</td>\n",
       "      <td>130</td>\n",
       "      <td>1686</td>\n",
       "      <td>177</td>\n",
       "      <td>17.4</td>\n",
       "      <td>1.66</td>\n",
       "      <td>1</td>\n",
       "    </tr>\n",
       "    <tr>\n",
       "      <th>2</th>\n",
       "      <td>0.00</td>\n",
       "      <td>0.0</td>\n",
       "      <td>0.0</td>\n",
       "      <td>77.9272</td>\n",
       "      <td>9.6520</td>\n",
       "      <td>11.0744</td>\n",
       "      <td>3226.944444</td>\n",
       "      <td>-86.666667</td>\n",
       "      <td>483.055556</td>\n",
       "      <td>5.83333</td>\n",
       "      <td>...</td>\n",
       "      <td>1.9</td>\n",
       "      <td>1.11</td>\n",
       "      <td>0.11</td>\n",
       "      <td>47.1</td>\n",
       "      <td>144</td>\n",
       "      <td>1613</td>\n",
       "      <td>154</td>\n",
       "      <td>17.1</td>\n",
       "      <td>1.69</td>\n",
       "      <td>-1</td>\n",
       "    </tr>\n",
       "    <tr>\n",
       "      <th>3</th>\n",
       "      <td>0.00</td>\n",
       "      <td>0.0</td>\n",
       "      <td>0.0</td>\n",
       "      <td>77.9272</td>\n",
       "      <td>9.6520</td>\n",
       "      <td>11.0744</td>\n",
       "      <td>3226.944444</td>\n",
       "      <td>-86.666667</td>\n",
       "      <td>483.055556</td>\n",
       "      <td>5.36667</td>\n",
       "      <td>...</td>\n",
       "      <td>1.6</td>\n",
       "      <td>0.75</td>\n",
       "      <td>0.08</td>\n",
       "      <td>11.3</td>\n",
       "      <td>75</td>\n",
       "      <td>1722</td>\n",
       "      <td>325</td>\n",
       "      <td>13.4</td>\n",
       "      <td>1.59</td>\n",
       "      <td>0</td>\n",
       "    </tr>\n",
       "    <tr>\n",
       "      <th>4</th>\n",
       "      <td>0.00</td>\n",
       "      <td>0.0</td>\n",
       "      <td>0.0</td>\n",
       "      <td>77.9272</td>\n",
       "      <td>9.6520</td>\n",
       "      <td>11.0744</td>\n",
       "      <td>3226.944444</td>\n",
       "      <td>-86.666667</td>\n",
       "      <td>483.055556</td>\n",
       "      <td>6.06667</td>\n",
       "      <td>...</td>\n",
       "      <td>1.9</td>\n",
       "      <td>1.08</td>\n",
       "      <td>0.11</td>\n",
       "      <td>39.5</td>\n",
       "      <td>130</td>\n",
       "      <td>1686</td>\n",
       "      <td>177</td>\n",
       "      <td>17.4</td>\n",
       "      <td>1.66</td>\n",
       "      <td>0</td>\n",
       "    </tr>\n",
       "    <tr>\n",
       "      <th>...</th>\n",
       "      <td>...</td>\n",
       "      <td>...</td>\n",
       "      <td>...</td>\n",
       "      <td>...</td>\n",
       "      <td>...</td>\n",
       "      <td>...</td>\n",
       "      <td>...</td>\n",
       "      <td>...</td>\n",
       "      <td>...</td>\n",
       "      <td>...</td>\n",
       "      <td>...</td>\n",
       "      <td>...</td>\n",
       "      <td>...</td>\n",
       "      <td>...</td>\n",
       "      <td>...</td>\n",
       "      <td>...</td>\n",
       "      <td>...</td>\n",
       "      <td>...</td>\n",
       "      <td>...</td>\n",
       "      <td>...</td>\n",
       "      <td>...</td>\n",
       "    </tr>\n",
       "    <tr>\n",
       "      <th>215</th>\n",
       "      <td>1.92</td>\n",
       "      <td>1.6</td>\n",
       "      <td>1.6</td>\n",
       "      <td>63.6270</td>\n",
       "      <td>11.5062</td>\n",
       "      <td>8.0264</td>\n",
       "      <td>3419.722222</td>\n",
       "      <td>155.000000</td>\n",
       "      <td>477.222222</td>\n",
       "      <td>5.16667</td>\n",
       "      <td>...</td>\n",
       "      <td>0.8</td>\n",
       "      <td>0.24</td>\n",
       "      <td>0.03</td>\n",
       "      <td>14.7</td>\n",
       "      <td>70</td>\n",
       "      <td>643</td>\n",
       "      <td>141</td>\n",
       "      <td>27.9</td>\n",
       "      <td>0.00</td>\n",
       "      <td>1</td>\n",
       "    </tr>\n",
       "    <tr>\n",
       "      <th>216</th>\n",
       "      <td>1.92</td>\n",
       "      <td>1.6</td>\n",
       "      <td>1.6</td>\n",
       "      <td>63.6270</td>\n",
       "      <td>11.5062</td>\n",
       "      <td>8.0264</td>\n",
       "      <td>3419.722222</td>\n",
       "      <td>155.000000</td>\n",
       "      <td>477.222222</td>\n",
       "      <td>5.26667</td>\n",
       "      <td>...</td>\n",
       "      <td>0.8</td>\n",
       "      <td>0.24</td>\n",
       "      <td>0.03</td>\n",
       "      <td>14.7</td>\n",
       "      <td>70</td>\n",
       "      <td>643</td>\n",
       "      <td>141</td>\n",
       "      <td>27.9</td>\n",
       "      <td>0.00</td>\n",
       "      <td>0</td>\n",
       "    </tr>\n",
       "    <tr>\n",
       "      <th>217</th>\n",
       "      <td>1.92</td>\n",
       "      <td>1.6</td>\n",
       "      <td>1.6</td>\n",
       "      <td>63.6270</td>\n",
       "      <td>11.5062</td>\n",
       "      <td>8.0264</td>\n",
       "      <td>3419.722222</td>\n",
       "      <td>155.000000</td>\n",
       "      <td>477.222222</td>\n",
       "      <td>5.16667</td>\n",
       "      <td>...</td>\n",
       "      <td>0.8</td>\n",
       "      <td>0.24</td>\n",
       "      <td>0.03</td>\n",
       "      <td>14.7</td>\n",
       "      <td>70</td>\n",
       "      <td>643</td>\n",
       "      <td>141</td>\n",
       "      <td>27.9</td>\n",
       "      <td>0.00</td>\n",
       "      <td>-1</td>\n",
       "    </tr>\n",
       "    <tr>\n",
       "      <th>218</th>\n",
       "      <td>1.92</td>\n",
       "      <td>1.6</td>\n",
       "      <td>1.6</td>\n",
       "      <td>63.6270</td>\n",
       "      <td>11.5062</td>\n",
       "      <td>8.0264</td>\n",
       "      <td>3419.722222</td>\n",
       "      <td>155.000000</td>\n",
       "      <td>477.222222</td>\n",
       "      <td>5.46667</td>\n",
       "      <td>...</td>\n",
       "      <td>0.8</td>\n",
       "      <td>0.24</td>\n",
       "      <td>0.03</td>\n",
       "      <td>14.7</td>\n",
       "      <td>70</td>\n",
       "      <td>643</td>\n",
       "      <td>141</td>\n",
       "      <td>27.9</td>\n",
       "      <td>0.00</td>\n",
       "      <td>0</td>\n",
       "    </tr>\n",
       "    <tr>\n",
       "      <th>219</th>\n",
       "      <td>1.92</td>\n",
       "      <td>1.6</td>\n",
       "      <td>1.6</td>\n",
       "      <td>63.6270</td>\n",
       "      <td>11.5062</td>\n",
       "      <td>8.0264</td>\n",
       "      <td>3419.722222</td>\n",
       "      <td>155.000000</td>\n",
       "      <td>477.222222</td>\n",
       "      <td>5.36667</td>\n",
       "      <td>...</td>\n",
       "      <td>0.8</td>\n",
       "      <td>0.24</td>\n",
       "      <td>0.03</td>\n",
       "      <td>14.7</td>\n",
       "      <td>70</td>\n",
       "      <td>643</td>\n",
       "      <td>141</td>\n",
       "      <td>27.9</td>\n",
       "      <td>0.00</td>\n",
       "      <td>-1</td>\n",
       "    </tr>\n",
       "  </tbody>\n",
       "</table>\n",
       "<p>220 rows × 115 columns</p>\n",
       "</div>"
      ],
      "text/plain": [
       "     ADSCI-growing season  ADSCI-30 days prior to harvest  \\\n",
       "0                    0.00                             0.0   \n",
       "1                    0.00                             0.0   \n",
       "2                    0.00                             0.0   \n",
       "3                    0.00                             0.0   \n",
       "4                    0.00                             0.0   \n",
       "..                    ...                             ...   \n",
       "215                  1.92                             1.6   \n",
       "216                  1.92                             1.6   \n",
       "217                  1.92                             1.6   \n",
       "218                  1.92                             1.6   \n",
       "219                  1.92                             1.6   \n",
       "\n",
       "     ADSCI-30 days prior to growing season end  Precip-growing season cm  \\\n",
       "0                                          0.0                   77.9272   \n",
       "1                                          0.0                   77.9272   \n",
       "2                                          0.0                   77.9272   \n",
       "3                                          0.0                   77.9272   \n",
       "4                                          0.0                   77.9272   \n",
       "..                                         ...                       ...   \n",
       "215                                        1.6                   63.6270   \n",
       "216                                        1.6                   63.6270   \n",
       "217                                        1.6                   63.6270   \n",
       "218                                        1.6                   63.6270   \n",
       "219                                        1.6                   63.6270   \n",
       "\n",
       "     Precip-30 days prior to harvest cm  \\\n",
       "0                                9.6520   \n",
       "1                                9.6520   \n",
       "2                                9.6520   \n",
       "3                                9.6520   \n",
       "4                                9.6520   \n",
       "..                                  ...   \n",
       "215                             11.5062   \n",
       "216                             11.5062   \n",
       "217                             11.5062   \n",
       "218                             11.5062   \n",
       "219                             11.5062   \n",
       "\n",
       "     Precip-30 days prior to growing season end cm  \\\n",
       "0                                          11.0744   \n",
       "1                                          11.0744   \n",
       "2                                          11.0744   \n",
       "3                                          11.0744   \n",
       "4                                          11.0744   \n",
       "..                                             ...   \n",
       "215                                         8.0264   \n",
       "216                                         8.0264   \n",
       "217                                         8.0264   \n",
       "218                                         8.0264   \n",
       "219                                         8.0264   \n",
       "\n",
       "     Accumlated Thermal Time-growing season C   \\\n",
       "0                                  3226.944444   \n",
       "1                                  3226.944444   \n",
       "2                                  3226.944444   \n",
       "3                                  3226.944444   \n",
       "4                                  3226.944444   \n",
       "..                                         ...   \n",
       "215                                3419.722222   \n",
       "216                                3419.722222   \n",
       "217                                3419.722222   \n",
       "218                                3419.722222   \n",
       "219                                3419.722222   \n",
       "\n",
       "     Accumlated Thermal Time-30 days prior to harvest C   \\\n",
       "0                                           -86.666667     \n",
       "1                                           -86.666667     \n",
       "2                                           -86.666667     \n",
       "3                                           -86.666667     \n",
       "4                                           -86.666667     \n",
       "..                                                 ...     \n",
       "215                                         155.000000     \n",
       "216                                         155.000000     \n",
       "217                                         155.000000     \n",
       "218                                         155.000000     \n",
       "219                                         155.000000     \n",
       "\n",
       "     Accumlated Thermal Time-30 days prior to growing season end C   \\\n",
       "0                                           483.055556                \n",
       "1                                           483.055556                \n",
       "2                                           483.055556                \n",
       "3                                           483.055556                \n",
       "4                                           483.055556                \n",
       "..                                                 ...                \n",
       "215                                         477.222222                \n",
       "216                                         477.222222                \n",
       "217                                         477.222222                \n",
       "218                                         477.222222                \n",
       "219                                         477.222222                \n",
       "\n",
       "     0-10 Soil pH  ...  50-100 Site SOM   \\\n",
       "0         5.83333  ...               1.9   \n",
       "1         5.80000  ...               1.9   \n",
       "2         5.83333  ...               1.9   \n",
       "3         5.36667  ...               1.6   \n",
       "4         6.06667  ...               1.9   \n",
       "..            ...  ...               ...   \n",
       "215       5.16667  ...               0.8   \n",
       "216       5.26667  ...               0.8   \n",
       "217       5.16667  ...               0.8   \n",
       "218       5.46667  ...               0.8   \n",
       "219       5.36667  ...               0.8   \n",
       "\n",
       "     50-100 Site Soil total organic carbon   50-100 Site Total Soil nitrogen   \\\n",
       "0                                      1.11                              0.11   \n",
       "1                                      1.08                              0.11   \n",
       "2                                      1.11                              0.11   \n",
       "3                                      0.75                              0.08   \n",
       "4                                      1.08                              0.11   \n",
       "..                                      ...                               ...   \n",
       "215                                    0.24                              0.03   \n",
       "216                                    0.24                              0.03   \n",
       "217                                    0.24                              0.03   \n",
       "218                                    0.24                              0.03   \n",
       "219                                    0.24                              0.03   \n",
       "\n",
       "     50-100 Site Extractable P mg kg-1  50-100 Site Extractable K mg kg-1  \\\n",
       "0                                 47.1                                144   \n",
       "1                                 39.5                                130   \n",
       "2                                 47.1                                144   \n",
       "3                                 11.3                                 75   \n",
       "4                                 39.5                                130   \n",
       "..                                 ...                                ...   \n",
       "215                               14.7                                 70   \n",
       "216                               14.7                                 70   \n",
       "217                               14.7                                 70   \n",
       "218                               14.7                                 70   \n",
       "219                               14.7                                 70   \n",
       "\n",
       "     50-100 Site Extractable Ca mg kg-1  50-100 Site Extractable Mg mg kg-1  \\\n",
       "0                                  1613                                 154   \n",
       "1                                  1686                                 177   \n",
       "2                                  1613                                 154   \n",
       "3                                  1722                                 325   \n",
       "4                                  1686                                 177   \n",
       "..                                  ...                                 ...   \n",
       "215                                 643                                 141   \n",
       "216                                 643                                 141   \n",
       "217                                 643                                 141   \n",
       "218                                 643                                 141   \n",
       "219                                 643                                 141   \n",
       "\n",
       "     50-100 Site Extractable S mg kg-1  50-100 Site BD g cm-3  \\\n",
       "0                                 17.1                   1.69   \n",
       "1                                 17.4                   1.66   \n",
       "2                                 17.1                   1.69   \n",
       "3                                 13.4                   1.59   \n",
       "4                                 17.4                   1.66   \n",
       "..                                 ...                    ...   \n",
       "215                               27.9                   0.00   \n",
       "216                               27.9                   0.00   \n",
       "217                               27.9                   0.00   \n",
       "218                               27.9                   0.00   \n",
       "219                               27.9                   0.00   \n",
       "\n",
       "     Nitrogen Trt Categorical  \n",
       "0                           1  \n",
       "1                           1  \n",
       "2                          -1  \n",
       "3                           0  \n",
       "4                           0  \n",
       "..                        ...  \n",
       "215                         1  \n",
       "216                         0  \n",
       "217                        -1  \n",
       "218                         0  \n",
       "219                        -1  \n",
       "\n",
       "[220 rows x 115 columns]"
      ]
     },
     "execution_count": 6,
     "metadata": {},
     "output_type": "execute_result"
    }
   ],
   "source": [
    "X"
   ]
  },
  {
   "cell_type": "markdown",
   "metadata": {},
   "source": [
    "# Affinity Propagation"
   ]
  },
  {
   "cell_type": "code",
   "execution_count": 7,
   "metadata": {},
   "outputs": [],
   "source": [
    "from sklearn.cluster import AffinityPropagation"
   ]
  },
  {
   "cell_type": "code",
   "execution_count": 12,
   "metadata": {},
   "outputs": [],
   "source": [
    "model = AffinityPropagation(0.75)"
   ]
  },
  {
   "cell_type": "code",
   "execution_count": 13,
   "metadata": {},
   "outputs": [],
   "source": [
    "model.fit(X)\n",
    "yhat = model.predict(X)\n",
    "clusters = np.unique(yhat)"
   ]
  },
  {
   "cell_type": "code",
   "execution_count": 14,
   "metadata": {},
   "outputs": [
    {
     "data": {
      "text/plain": [
       "array([ 0,  1,  2,  3,  4,  5,  6,  7,  8,  9, 10, 11], dtype=int64)"
      ]
     },
     "execution_count": 14,
     "metadata": {},
     "output_type": "execute_result"
    }
   ],
   "source": [
    "clusters"
   ]
  },
  {
   "cell_type": "code",
   "execution_count": 18,
   "metadata": {},
   "outputs": [
    {
     "data": {
      "text/plain": [
       "array([ 0,  0,  0,  0,  0,  0,  0,  0,  0,  0,  0,  0,  0,  0,  0,  0,  0,\n",
       "        0,  0,  0,  0,  0,  0,  0,  1,  1,  1,  1,  1,  1,  1,  1,  1,  1,\n",
       "        1,  1,  2,  2,  2,  2,  2,  2,  2,  2,  2,  2,  2,  2,  3,  3,  3,\n",
       "        3,  3,  3,  3,  3,  3,  3,  3,  3,  3,  3,  4,  4,  4,  4,  4,  4,\n",
       "        4,  4,  4,  4,  4,  4,  5,  5,  5,  5,  5,  5,  5,  5,  5,  5,  5,\n",
       "        5,  4,  4,  4,  4,  4,  4,  4,  4,  4,  4,  4,  9,  9,  9,  9,  9,\n",
       "        9,  9,  9,  9,  9,  9,  9,  9,  9,  9,  9,  9,  9,  9,  9,  9,  9,\n",
       "        9,  9,  6,  6,  6,  6,  6,  6,  6,  6,  6,  6,  6,  6,  7,  7,  7,\n",
       "        7,  7,  7,  7,  7,  7,  7,  7,  7,  8,  8,  8,  8,  8,  8,  8,  8,\n",
       "        8,  8,  8,  8,  9,  9,  9,  9,  9,  9,  9,  9,  9,  9,  9,  9, 11,\n",
       "       11, 11, 11, 11, 11, 11, 11, 11, 11, 11, 11, 10, 10, 10, 10, 10, 10,\n",
       "       10, 10, 10, 10, 10, 10, 11, 11, 11, 11, 11, 11, 11, 11, 11, 11, 11,\n",
       "       11, 11, 11, 11, 11, 11, 11, 11, 11, 11, 11, 11, 11, 11, 11, 11],\n",
       "      dtype=int64)"
      ]
     },
     "execution_count": 18,
     "metadata": {},
     "output_type": "execute_result"
    }
   ],
   "source": [
    "yhat"
   ]
  },
  {
   "cell_type": "markdown",
   "metadata": {},
   "source": [
    "# KMeans"
   ]
  },
  {
   "cell_type": "code",
   "execution_count": 26,
   "metadata": {},
   "outputs": [],
   "source": [
    "from sklearn.cluster import KMeans\n",
    "from sklearn.model_selection import cross_val_score"
   ]
  },
  {
   "cell_type": "code",
   "execution_count": 27,
   "metadata": {},
   "outputs": [],
   "source": [
    "model_KM = KMeans()"
   ]
  },
  {
   "cell_type": "code",
   "execution_count": 28,
   "metadata": {},
   "outputs": [
    {
     "data": {
      "text/plain": [
       "KMeans()"
      ]
     },
     "execution_count": 28,
     "metadata": {},
     "output_type": "execute_result"
    }
   ],
   "source": [
    "model_KM.fit(X)"
   ]
  },
  {
   "cell_type": "code",
   "execution_count": 29,
   "metadata": {},
   "outputs": [
    {
     "data": {
      "text/plain": [
       "120481451.5192415"
      ]
     },
     "execution_count": 29,
     "metadata": {},
     "output_type": "execute_result"
    }
   ],
   "source": [
    "model_KM.inertia_"
   ]
  },
  {
   "cell_type": "code",
   "execution_count": 30,
   "metadata": {},
   "outputs": [],
   "source": [
    "# Very huge inertia"
   ]
  },
  {
   "cell_type": "code",
   "execution_count": 31,
   "metadata": {},
   "outputs": [],
   "source": [
    "inertia = []\n",
    "for i in range(1,51):\n",
    "    kmeans = KMeans(n_clusters=i)\n",
    "    kmeans.fit(X)\n",
    "    inertia.append(kmeans.inertia_)"
   ]
  },
  {
   "cell_type": "code",
   "execution_count": 32,
   "metadata": {
    "collapsed": true
   },
   "outputs": [
    {
     "data": {
      "text/plain": [
       "[1969262074.9148903,\n",
       " 1146130330.0819798,\n",
       " 703392037.4976246,\n",
       " 463355926.13416976,\n",
       " 289312007.3394831,\n",
       " 219267846.01252744,\n",
       " 160937058.72488925,\n",
       " 120481451.5192415,\n",
       " 85451013.8889282,\n",
       " 63970766.590791054,\n",
       " 51385723.58239237,\n",
       " 41503116.7343278,\n",
       " 33234780.23764236,\n",
       " 25904613.454161312,\n",
       " 22053989.441106807,\n",
       " 17832001.040964827,\n",
       " 13933160.283881161,\n",
       " 11188927.25562462,\n",
       " 9099656.878130455,\n",
       " 8531834.728311202,\n",
       " 7918662.504784941,\n",
       " 7402423.224135787,\n",
       " 6900772.66043816,\n",
       " 6358281.706134616,\n",
       " 5854738.695279455,\n",
       " 5378356.0019089375,\n",
       " 4901989.259327166,\n",
       " 4470913.4156734925,\n",
       " 4073783.447898654,\n",
       " 3721938.707755607,\n",
       " 3370099.63890887,\n",
       " 3018260.5700621326,\n",
       " 2859571.95469953,\n",
       " 2700883.3393369257,\n",
       " 2545544.143289176,\n",
       " 2386855.5279265717,\n",
       " 2288033.4442883567,\n",
       " 2191277.3606940215,\n",
       " 1984969.6735550947,\n",
       " 1936018.1648547086,\n",
       " 1789000.215936088,\n",
       " 1724586.7199581037,\n",
       " 1611906.1822767358,\n",
       " 1557286.7334412974,\n",
       " 1535626.4461075286,\n",
       " 1446352.8424960705,\n",
       " 1337697.2653523155,\n",
       " 1295150.6770445553,\n",
       " 1240670.5794482066,\n",
       " 1196300.0997329007]"
      ]
     },
     "execution_count": 32,
     "metadata": {},
     "output_type": "execute_result"
    }
   ],
   "source": [
    "inertia"
   ]
  },
  {
   "cell_type": "code",
   "execution_count": 33,
   "metadata": {},
   "outputs": [
    {
     "data": {
      "text/plain": [
       "Text(0, 0.5, 'Inertia')"
      ]
     },
     "execution_count": 33,
     "metadata": {},
     "output_type": "execute_result"
    },
    {
     "data": {
      "image/png": "[encoded data removed]",
      "text/plain": [
       "<Figure size 1080x360 with 1 Axes>"
      ]
     },
     "metadata": {
      "needs_background": "light"
     },
     "output_type": "display_data"
    }
   ],
   "source": [
    "# Elbow method\n",
    "\n",
    "plt.figure(figsize=(15,5))\n",
    "plt.plot(inertia,marker='s')\n",
    "plt.xlabel('Number of Clusters')\n",
    "plt.ylabel('Inertia')"
   ]
  },
  {
   "cell_type": "markdown",
   "metadata": {},
   "source": [
    "**Almost after 8th cluster the change in inertia almost saturated**.\n",
    "\n",
    "**So we can consider best number of clusters are 8**"
   ]
  },
  {
   "cell_type": "markdown",
   "metadata": {},
   "source": [
    "# Agglomarative Clustering"
   ]
  },
  {
   "cell_type": "code",
   "execution_count": 19,
   "metadata": {},
   "outputs": [],
   "source": [
    "from sklearn.cluster import AgglomerativeClustering"
   ]
  },
  {
   "cell_type": "code",
   "execution_count": 34,
   "metadata": {},
   "outputs": [],
   "source": [
    "model = AgglomerativeClustering(n_clusters=8)"
   ]
  },
  {
   "cell_type": "code",
   "execution_count": 35,
   "metadata": {},
   "outputs": [],
   "source": [
    "yhat = model.fit_predict(X)\n",
    "clusters = np.unique(yhat)"
   ]
  },
  {
   "cell_type": "code",
   "execution_count": 36,
   "metadata": {},
   "outputs": [
    {
     "data": {
      "text/plain": [
       "array([0, 1, 2, 3, 4, 5, 6, 7], dtype=int64)"
      ]
     },
     "execution_count": 36,
     "metadata": {},
     "output_type": "execute_result"
    }
   ],
   "source": [
    "clusters"
   ]
  },
  {
   "cell_type": "code",
   "execution_count": 37,
   "metadata": {},
   "outputs": [
    {
     "data": {
      "text/plain": [
       "array([0, 0, 0, 0, 0, 0, 0, 0, 0, 0, 0, 0, 0, 0, 0, 0, 0, 0, 0, 0, 0, 0,\n",
       "       0, 0, 0, 0, 0, 0, 0, 0, 0, 0, 0, 0, 0, 0, 3, 3, 3, 3, 3, 3, 3, 3,\n",
       "       3, 3, 3, 3, 4, 4, 4, 4, 4, 4, 4, 4, 4, 4, 4, 4, 4, 4, 6, 6, 6, 6,\n",
       "       6, 6, 6, 6, 6, 6, 6, 6, 4, 4, 4, 4, 4, 4, 4, 4, 4, 4, 4, 4, 6, 6,\n",
       "       6, 6, 6, 6, 6, 6, 6, 6, 6, 1, 1, 1, 1, 1, 1, 1, 1, 1, 1, 1, 1, 1,\n",
       "       1, 1, 1, 1, 1, 1, 1, 1, 1, 1, 1, 1, 1, 1, 1, 1, 1, 1, 1, 1, 1, 1,\n",
       "       1, 2, 2, 2, 2, 2, 2, 2, 2, 2, 2, 2, 2, 2, 2, 2, 2, 2, 2, 2, 2, 2,\n",
       "       2, 2, 2, 1, 1, 1, 1, 1, 1, 1, 1, 1, 1, 1, 1, 5, 5, 5, 5, 5, 5, 5,\n",
       "       5, 5, 5, 5, 5, 7, 7, 7, 7, 7, 7, 7, 7, 7, 7, 7, 7, 5, 5, 5, 5, 5,\n",
       "       5, 5, 5, 5, 5, 5, 5, 5, 5, 5, 5, 5, 5, 5, 5, 5, 5, 5, 5, 5, 5, 5],\n",
       "      dtype=int64)"
      ]
     },
     "execution_count": 37,
     "metadata": {},
     "output_type": "execute_result"
    }
   ],
   "source": [
    "yhat"
   ]
  },
  {
   "cell_type": "markdown",
   "metadata": {},
   "source": [
    "# DBSCAN"
   ]
  },
  {
   "cell_type": "code",
   "execution_count": 38,
   "metadata": {},
   "outputs": [],
   "source": [
    "from sklearn.cluster import DBSCAN"
   ]
  },
  {
   "cell_type": "code",
   "execution_count": 56,
   "metadata": {},
   "outputs": [],
   "source": [
    "model = DBSCAN()\n",
    "yhat = model.fit_predict(X)\n",
    "clusters = np.unique(yhat)"
   ]
  },
  {
   "cell_type": "code",
   "execution_count": 55,
   "metadata": {},
   "outputs": [
    {
     "data": {
      "text/plain": [
       "array([-1], dtype=int64)"
      ]
     },
     "execution_count": 55,
     "metadata": {},
     "output_type": "execute_result"
    }
   ],
   "source": [
    "clusters"
   ]
  },
  {
   "cell_type": "code",
   "execution_count": null,
   "metadata": {},
   "outputs": [],
   "source": []
  },
  {
   "cell_type": "code",
   "execution_count": null,
   "metadata": {},
   "outputs": [],
   "source": []
  },
  {
   "cell_type": "code",
   "execution_count": null,
   "metadata": {},
   "outputs": [],
   "source": []
  },
  {
   "cell_type": "code",
   "execution_count": null,
   "metadata": {},
   "outputs": [],
   "source": []
  },
  {
   "cell_type": "code",
   "execution_count": null,
   "metadata": {},
   "outputs": [],
   "source": []
  }
 ],
 "metadata": {
  "kernelspec": {
   "display_name": "Python 3",
   "language": "python",
   "name": "python3"
  },
  "language_info": {
   "codemirror_mode": {
    "name": "ipython",
    "version": 3
   },
   "file_extension": ".py",
   "mimetype": "text/x-python",
   "name": "python",
   "nbconvert_exporter": "python",
   "pygments_lexer": "ipython3",
   "version": "3.8.3"
  }
 },
 "nbformat": 4,
 "nbformat_minor": 4
}
